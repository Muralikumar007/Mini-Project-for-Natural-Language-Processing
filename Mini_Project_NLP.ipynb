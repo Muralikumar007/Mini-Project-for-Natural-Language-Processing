{
 "cells": [
  {
   "cell_type": "markdown",
   "id": "51f1bd6c",
   "metadata": {},
   "source": [
    "# Mini Project in NLP :"
   ]
  },
  {
   "cell_type": "markdown",
   "id": "e11a5440",
   "metadata": {},
   "source": [
    "### Name : Murali kumar R ,            Roll No : 225229120"
   ]
  },
  {
   "cell_type": "code",
   "execution_count": 1,
   "id": "fca608dc",
   "metadata": {},
   "outputs": [],
   "source": [
    "#import dataset:"
   ]
  },
  {
   "cell_type": "code",
   "execution_count": 2,
   "id": "6db41ee0",
   "metadata": {},
   "outputs": [],
   "source": [
    "import pandas as pd"
   ]
  },
  {
   "cell_type": "code",
   "execution_count": 3,
   "id": "56349b87",
   "metadata": {},
   "outputs": [],
   "source": [
    "df=pd.read_csv('complaints_processed.csv')"
   ]
  },
  {
   "cell_type": "code",
   "execution_count": 4,
   "id": "c1b1ee7f",
   "metadata": {},
   "outputs": [
    {
     "data": {
      "text/html": [
       "<div>\n",
       "<style scoped>\n",
       "    .dataframe tbody tr th:only-of-type {\n",
       "        vertical-align: middle;\n",
       "    }\n",
       "\n",
       "    .dataframe tbody tr th {\n",
       "        vertical-align: top;\n",
       "    }\n",
       "\n",
       "    .dataframe thead th {\n",
       "        text-align: right;\n",
       "    }\n",
       "</style>\n",
       "<table border=\"1\" class=\"dataframe\">\n",
       "  <thead>\n",
       "    <tr style=\"text-align: right;\">\n",
       "      <th></th>\n",
       "      <th>Unnamed: 0</th>\n",
       "      <th>product</th>\n",
       "      <th>narrative</th>\n",
       "    </tr>\n",
       "  </thead>\n",
       "  <tbody>\n",
       "    <tr>\n",
       "      <th>0</th>\n",
       "      <td>0</td>\n",
       "      <td>credit_card</td>\n",
       "      <td>purchase order day shipping amount receive pro...</td>\n",
       "    </tr>\n",
       "    <tr>\n",
       "      <th>1</th>\n",
       "      <td>1</td>\n",
       "      <td>credit_card</td>\n",
       "      <td>forwarded message date tue subject please inve...</td>\n",
       "    </tr>\n",
       "    <tr>\n",
       "      <th>2</th>\n",
       "      <td>2</td>\n",
       "      <td>retail_banking</td>\n",
       "      <td>forwarded message cc sent friday pdt subject f...</td>\n",
       "    </tr>\n",
       "    <tr>\n",
       "      <th>3</th>\n",
       "      <td>3</td>\n",
       "      <td>credit_reporting</td>\n",
       "      <td>payment history missing credit report speciali...</td>\n",
       "    </tr>\n",
       "    <tr>\n",
       "      <th>4</th>\n",
       "      <td>4</td>\n",
       "      <td>credit_reporting</td>\n",
       "      <td>payment history missing credit report made mis...</td>\n",
       "    </tr>\n",
       "  </tbody>\n",
       "</table>\n",
       "</div>"
      ],
      "text/plain": [
       "   Unnamed: 0           product  \\\n",
       "0           0       credit_card   \n",
       "1           1       credit_card   \n",
       "2           2    retail_banking   \n",
       "3           3  credit_reporting   \n",
       "4           4  credit_reporting   \n",
       "\n",
       "                                           narrative  \n",
       "0  purchase order day shipping amount receive pro...  \n",
       "1  forwarded message date tue subject please inve...  \n",
       "2  forwarded message cc sent friday pdt subject f...  \n",
       "3  payment history missing credit report speciali...  \n",
       "4  payment history missing credit report made mis...  "
      ]
     },
     "execution_count": 4,
     "metadata": {},
     "output_type": "execute_result"
    }
   ],
   "source": [
    "df.head()"
   ]
  },
  {
   "cell_type": "markdown",
   "id": "01509d44",
   "metadata": {},
   "source": [
    "### Data PreProcessing :"
   ]
  },
  {
   "cell_type": "code",
   "execution_count": 5,
   "id": "030dca7b",
   "metadata": {},
   "outputs": [],
   "source": [
    "#check missing value:"
   ]
  },
  {
   "cell_type": "code",
   "execution_count": 6,
   "id": "1ea58367",
   "metadata": {},
   "outputs": [
    {
     "data": {
      "text/plain": [
       "Unnamed: 0     0\n",
       "product        0\n",
       "narrative     10\n",
       "dtype: int64"
      ]
     },
     "execution_count": 6,
     "metadata": {},
     "output_type": "execute_result"
    }
   ],
   "source": [
    "df.isnull().sum()"
   ]
  },
  {
   "cell_type": "code",
   "execution_count": 7,
   "id": "e9f1bca8",
   "metadata": {},
   "outputs": [],
   "source": [
    "#drop null values:"
   ]
  },
  {
   "cell_type": "code",
   "execution_count": 8,
   "id": "c8db10fa",
   "metadata": {},
   "outputs": [],
   "source": [
    "df.dropna(inplace=True)"
   ]
  },
  {
   "cell_type": "code",
   "execution_count": 9,
   "id": "046d003c",
   "metadata": {},
   "outputs": [
    {
     "data": {
      "text/plain": [
       "Unnamed: 0    0\n",
       "product       0\n",
       "narrative     0\n",
       "dtype: int64"
      ]
     },
     "execution_count": 9,
     "metadata": {},
     "output_type": "execute_result"
    }
   ],
   "source": [
    "df.isnull().sum()"
   ]
  },
  {
   "cell_type": "code",
   "execution_count": 10,
   "id": "dbdb6184",
   "metadata": {},
   "outputs": [],
   "source": [
    "#shape:"
   ]
  },
  {
   "cell_type": "code",
   "execution_count": 11,
   "id": "494d7ccd",
   "metadata": {},
   "outputs": [
    {
     "data": {
      "text/plain": [
       "(162411, 3)"
      ]
     },
     "execution_count": 11,
     "metadata": {},
     "output_type": "execute_result"
    }
   ],
   "source": [
    "df.shape"
   ]
  },
  {
   "cell_type": "code",
   "execution_count": 12,
   "id": "b27eae0d",
   "metadata": {},
   "outputs": [],
   "source": [
    "#drop unwanted column:"
   ]
  },
  {
   "cell_type": "code",
   "execution_count": 13,
   "id": "05bf40bd",
   "metadata": {},
   "outputs": [],
   "source": [
    "df=df.drop(['Unnamed: 0'],axis=1)"
   ]
  },
  {
   "cell_type": "code",
   "execution_count": 14,
   "id": "f86274c1",
   "metadata": {},
   "outputs": [
    {
     "data": {
      "text/html": [
       "<div>\n",
       "<style scoped>\n",
       "    .dataframe tbody tr th:only-of-type {\n",
       "        vertical-align: middle;\n",
       "    }\n",
       "\n",
       "    .dataframe tbody tr th {\n",
       "        vertical-align: top;\n",
       "    }\n",
       "\n",
       "    .dataframe thead th {\n",
       "        text-align: right;\n",
       "    }\n",
       "</style>\n",
       "<table border=\"1\" class=\"dataframe\">\n",
       "  <thead>\n",
       "    <tr style=\"text-align: right;\">\n",
       "      <th></th>\n",
       "      <th>product</th>\n",
       "      <th>narrative</th>\n",
       "    </tr>\n",
       "  </thead>\n",
       "  <tbody>\n",
       "    <tr>\n",
       "      <th>0</th>\n",
       "      <td>credit_card</td>\n",
       "      <td>purchase order day shipping amount receive pro...</td>\n",
       "    </tr>\n",
       "    <tr>\n",
       "      <th>1</th>\n",
       "      <td>credit_card</td>\n",
       "      <td>forwarded message date tue subject please inve...</td>\n",
       "    </tr>\n",
       "    <tr>\n",
       "      <th>2</th>\n",
       "      <td>retail_banking</td>\n",
       "      <td>forwarded message cc sent friday pdt subject f...</td>\n",
       "    </tr>\n",
       "    <tr>\n",
       "      <th>3</th>\n",
       "      <td>credit_reporting</td>\n",
       "      <td>payment history missing credit report speciali...</td>\n",
       "    </tr>\n",
       "    <tr>\n",
       "      <th>4</th>\n",
       "      <td>credit_reporting</td>\n",
       "      <td>payment history missing credit report made mis...</td>\n",
       "    </tr>\n",
       "  </tbody>\n",
       "</table>\n",
       "</div>"
      ],
      "text/plain": [
       "            product                                          narrative\n",
       "0       credit_card  purchase order day shipping amount receive pro...\n",
       "1       credit_card  forwarded message date tue subject please inve...\n",
       "2    retail_banking  forwarded message cc sent friday pdt subject f...\n",
       "3  credit_reporting  payment history missing credit report speciali...\n",
       "4  credit_reporting  payment history missing credit report made mis..."
      ]
     },
     "execution_count": 14,
     "metadata": {},
     "output_type": "execute_result"
    }
   ],
   "source": [
    "df.head()"
   ]
  },
  {
   "cell_type": "code",
   "execution_count": 15,
   "id": "c9724ba8",
   "metadata": {},
   "outputs": [],
   "source": [
    "x = df['product']\n",
    "y = df['narrative']"
   ]
  },
  {
   "cell_type": "code",
   "execution_count": 16,
   "id": "4d711ff6",
   "metadata": {},
   "outputs": [],
   "source": [
    "#covert text in lower case:"
   ]
  },
  {
   "cell_type": "code",
   "execution_count": 17,
   "id": "d77b52ed",
   "metadata": {},
   "outputs": [],
   "source": [
    "df['product'] = df['product'].str.lower()\n",
    "df['narrative']= df['narrative'].str.lower()"
   ]
  },
  {
   "cell_type": "code",
   "execution_count": 18,
   "id": "2430b9b7",
   "metadata": {},
   "outputs": [],
   "source": [
    "#using Stopword Removel :"
   ]
  },
  {
   "cell_type": "code",
   "execution_count": 19,
   "id": "7f4464fd",
   "metadata": {},
   "outputs": [
    {
     "name": "stderr",
     "output_type": "stream",
     "text": [
      "[nltk_data] Downloading package stopwords to\n",
      "[nltk_data]     C:\\Users\\ELCOT\\AppData\\Roaming\\nltk_data...\n",
      "[nltk_data]   Package stopwords is already up-to-date!\n"
     ]
    }
   ],
   "source": [
    "import nltk\n",
    "nltk.download('stopwords')\n",
    "from nltk.corpus import stopwords"
   ]
  },
  {
   "cell_type": "code",
   "execution_count": 20,
   "id": "71379ea3",
   "metadata": {},
   "outputs": [],
   "source": [
    "stop_words = set(stopwords.words('english')) # Get the set of English stopwords\n",
    "\n",
    "df['product'] = [word for word in df['product'] if not word.lower() in stop_words]\n",
    "df['narrative'] = [word for word in df['narrative'] if not word.lower() in stop_words]"
   ]
  },
  {
   "cell_type": "code",
   "execution_count": 21,
   "id": "c7f914f3",
   "metadata": {},
   "outputs": [],
   "source": [
    "# removing special characters"
   ]
  },
  {
   "cell_type": "code",
   "execution_count": 22,
   "id": "d5ba3d6a",
   "metadata": {},
   "outputs": [],
   "source": [
    "import re\n",
    "\n",
    "df['product']= df['product'].apply(lambda x: re.sub(r\"[@#\\$%^&*\\(\\)\\\\/\\+-_=\\[\\]\\{\\}<>]\", \"\", x))\n",
    "df['narrative'] = df['narrative'].apply(lambda x: re.sub(r\"[@#\\$%^&*\\(\\)\\\\/\\+-_=\\[\\]\\{\\}<>]\", \"\", x))"
   ]
  },
  {
   "cell_type": "code",
   "execution_count": 23,
   "id": "6a243bf4",
   "metadata": {},
   "outputs": [],
   "source": [
    "# removing punctuation marks"
   ]
  },
  {
   "cell_type": "code",
   "execution_count": 24,
   "id": "521d5765",
   "metadata": {},
   "outputs": [],
   "source": [
    "df['product'] = df['product'].apply(lambda x: re.sub(r\"[.,;:!\\?\\\"'`]\", \"\", x))\n",
    "df['narrative'] = df['narrative'].apply(lambda x: re.sub(r\"[.,;:!\\?\\\"'`]\", \"\", x))"
   ]
  },
  {
   "cell_type": "code",
   "execution_count": 25,
   "id": "dc4d84df",
   "metadata": {},
   "outputs": [],
   "source": [
    "#using Lemmatization method :"
   ]
  },
  {
   "cell_type": "code",
   "execution_count": 26,
   "id": "71cd8b52",
   "metadata": {
    "scrolled": false
   },
   "outputs": [
    {
     "name": "stderr",
     "output_type": "stream",
     "text": [
      "[nltk_data] Downloading package wordnet to\n",
      "[nltk_data]     C:\\Users\\ELCOT\\AppData\\Roaming\\nltk_data...\n",
      "[nltk_data]   Package wordnet is already up-to-date!\n"
     ]
    },
    {
     "data": {
      "text/plain": [
       "True"
      ]
     },
     "execution_count": 26,
     "metadata": {},
     "output_type": "execute_result"
    }
   ],
   "source": [
    "nltk.download('wordnet')"
   ]
  },
  {
   "cell_type": "markdown",
   "id": "1e550907",
   "metadata": {},
   "source": [
    "### WordNet Lemmatizer :"
   ]
  },
  {
   "cell_type": "code",
   "execution_count": 27,
   "id": "9dfb9b2e",
   "metadata": {},
   "outputs": [],
   "source": [
    "from nltk.tokenize import word_tokenize\n",
    "from nltk.stem import WordNetLemmatizer\n",
    "\n",
    "lemmatizer = WordNetLemmatizer()\n",
    "\n",
    "df['product'] = [lemmatizer.lemmatize(word) for word in df['product']]\n",
    "df['narrative'] = [lemmatizer.lemmatize(word) for word in df['narrative']]"
   ]
  },
  {
   "cell_type": "code",
   "execution_count": 28,
   "id": "f5065697",
   "metadata": {},
   "outputs": [
    {
     "data": {
      "text/plain": [
       "0              creditcard\n",
       "1              creditcard\n",
       "2           retailbanking\n",
       "3         creditreporting\n",
       "4         creditreporting\n",
       "               ...       \n",
       "162416     debtcollection\n",
       "162417         creditcard\n",
       "162418     debtcollection\n",
       "162419         creditcard\n",
       "162420    creditreporting\n",
       "Name: product, Length: 162411, dtype: object"
      ]
     },
     "execution_count": 28,
     "metadata": {},
     "output_type": "execute_result"
    }
   ],
   "source": [
    "df['product']"
   ]
  },
  {
   "cell_type": "markdown",
   "id": "7668c467",
   "metadata": {},
   "source": [
    "### Split train and Test set:"
   ]
  },
  {
   "cell_type": "code",
   "execution_count": 51,
   "id": "1fd41400",
   "metadata": {},
   "outputs": [],
   "source": [
    "X = df['product'][:1000]\n",
    "y = df['narrative'][:1000]"
   ]
  },
  {
   "cell_type": "code",
   "execution_count": null,
   "id": "0dc0d369",
   "metadata": {},
   "outputs": [],
   "source": [
    "#using label en coding method:"
   ]
  },
  {
   "cell_type": "code",
   "execution_count": 52,
   "id": "859a0357",
   "metadata": {},
   "outputs": [],
   "source": [
    "from sklearn.preprocessing import LabelEncoder\n",
    "\n",
    "le = LabelEncoder()\n",
    "Y = le.fit_transform(y)"
   ]
  },
  {
   "cell_type": "code",
   "execution_count": 53,
   "id": "fd4c7dc6",
   "metadata": {},
   "outputs": [],
   "source": [
    "from sklearn.model_selection import train_test_split\n",
    "\n",
    "# Split the data into training and testing sets\n",
    "X_train, X_test, y_train, y_test = train_test_split(X, Y, test_size=0.2, random_state=42)"
   ]
  },
  {
   "cell_type": "markdown",
   "id": "c993386b",
   "metadata": {},
   "source": [
    "### Count Vectorizer Model :"
   ]
  },
  {
   "cell_type": "code",
   "execution_count": 54,
   "id": "b8714f66",
   "metadata": {},
   "outputs": [],
   "source": [
    "from sklearn.feature_extraction.text import CountVectorizer\n",
    "\n",
    "# Create a CountVectorizer object\n",
    "vectorizer = CountVectorizer()\n",
    "\n",
    "# Fit the vectorizer to the corpus and transform the text into a bag-of-words representation\n",
    "X_train = vectorizer.fit_transform(X_train)\n",
    "X_test = vectorizer.transform(X_test)"
   ]
  },
  {
   "cell_type": "markdown",
   "id": "9332c411",
   "metadata": {},
   "source": [
    "### Random Forest Classification :"
   ]
  },
  {
   "cell_type": "code",
   "execution_count": 55,
   "id": "9519d2c4",
   "metadata": {},
   "outputs": [],
   "source": [
    "from sklearn.ensemble import RandomForestClassifier"
   ]
  },
  {
   "cell_type": "code",
   "execution_count": 56,
   "id": "e908ef8f",
   "metadata": {},
   "outputs": [
    {
     "data": {
      "text/plain": [
       "RandomForestClassifier(random_state=42)"
      ]
     },
     "execution_count": 56,
     "metadata": {},
     "output_type": "execute_result"
    }
   ],
   "source": [
    "# Train the Random Forest Regression Model\n",
    "rf_reg = RandomForestClassifier(n_estimators=100, random_state=42)\n",
    "rf_reg.fit(X_train, y_train)"
   ]
  },
  {
   "cell_type": "code",
   "execution_count": 57,
   "id": "e760abe5",
   "metadata": {},
   "outputs": [],
   "source": [
    "# Make predictions on the test set\n",
    "y_pred_rf = rf_reg.predict(X_test)"
   ]
  },
  {
   "cell_type": "code",
   "execution_count": 58,
   "id": "25e65787",
   "metadata": {},
   "outputs": [],
   "source": [
    "from sklearn.metrics import accuracy_score"
   ]
  },
  {
   "cell_type": "code",
   "execution_count": 59,
   "id": "92b5ae09",
   "metadata": {},
   "outputs": [
    {
     "name": "stdout",
     "output_type": "stream",
     "text": [
      "Accuracy: 0.085\n"
     ]
    }
   ],
   "source": [
    "accuracy = accuracy_score(y_test, y_pred_rf)\n",
    "print('Accuracy:', accuracy)"
   ]
  },
  {
   "cell_type": "markdown",
   "id": "5456ab03",
   "metadata": {},
   "source": [
    "### Support Vector Classification :"
   ]
  },
  {
   "cell_type": "code",
   "execution_count": 60,
   "id": "2d16cdf0",
   "metadata": {},
   "outputs": [],
   "source": [
    "from sklearn.svm import SVC"
   ]
  },
  {
   "cell_type": "code",
   "execution_count": 61,
   "id": "9ef16221",
   "metadata": {},
   "outputs": [
    {
     "data": {
      "text/plain": [
       "SVC(kernel='linear')"
      ]
     },
     "execution_count": 61,
     "metadata": {},
     "output_type": "execute_result"
    }
   ],
   "source": [
    "# Train the SVC model\n",
    "svc = SVC(kernel='linear')\n",
    "svc.fit(X_train, y_train)"
   ]
  },
  {
   "cell_type": "code",
   "execution_count": 62,
   "id": "2567879c",
   "metadata": {},
   "outputs": [],
   "source": [
    "# Make predictions on the test set\n",
    "y_pred_svc = svc.predict(X_test)"
   ]
  },
  {
   "cell_type": "code",
   "execution_count": 63,
   "id": "a16666cc",
   "metadata": {},
   "outputs": [
    {
     "name": "stdout",
     "output_type": "stream",
     "text": [
      "Accuracy:  0.09\n"
     ]
    }
   ],
   "source": [
    "# Evaluate the model\n",
    "accuracy = accuracy_score(y_test, y_pred_svc)\n",
    "print(\"Accuracy: \", accuracy)"
   ]
  },
  {
   "cell_type": "markdown",
   "id": "1a2b24f4",
   "metadata": {},
   "source": [
    "### Decision Tree Classification :"
   ]
  },
  {
   "cell_type": "code",
   "execution_count": 64,
   "id": "b3f7ed1f",
   "metadata": {},
   "outputs": [],
   "source": [
    "from sklearn.tree import DecisionTreeClassifier"
   ]
  },
  {
   "cell_type": "code",
   "execution_count": 65,
   "id": "09771e4a",
   "metadata": {},
   "outputs": [
    {
     "data": {
      "text/plain": [
       "DecisionTreeClassifier(max_depth=3)"
      ]
     },
     "execution_count": 65,
     "metadata": {},
     "output_type": "execute_result"
    }
   ],
   "source": [
    "# Train the Decision Tree Classifier model\n",
    "dtc = DecisionTreeClassifier(max_depth=3)\n",
    "dtc.fit(X_train, y_train)"
   ]
  },
  {
   "cell_type": "code",
   "execution_count": 66,
   "id": "df64e47f",
   "metadata": {},
   "outputs": [],
   "source": [
    "# Make predictions on the test set\n",
    "y_pred_dtc = dtc.predict(X_test)"
   ]
  },
  {
   "cell_type": "code",
   "execution_count": 67,
   "id": "e1b68629",
   "metadata": {},
   "outputs": [
    {
     "name": "stdout",
     "output_type": "stream",
     "text": [
      "Accuracy:  0.075\n"
     ]
    }
   ],
   "source": [
    "# Evaluate the model\n",
    "accuracy = accuracy_score(y_test, y_pred_dtc)\n",
    "print(\"Accuracy: \", accuracy)"
   ]
  },
  {
   "cell_type": "code",
   "execution_count": null,
   "id": "03a39e75",
   "metadata": {},
   "outputs": [],
   "source": []
  }
 ],
 "metadata": {
  "kernelspec": {
   "display_name": "Python 3 (ipykernel)",
   "language": "python",
   "name": "python3"
  },
  "language_info": {
   "codemirror_mode": {
    "name": "ipython",
    "version": 3
   },
   "file_extension": ".py",
   "mimetype": "text/x-python",
   "name": "python",
   "nbconvert_exporter": "python",
   "pygments_lexer": "ipython3",
   "version": "3.10.9"
  }
 },
 "nbformat": 4,
 "nbformat_minor": 5
}
